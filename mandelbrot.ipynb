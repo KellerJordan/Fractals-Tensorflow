{
 "cells": [
  {
   "cell_type": "markdown",
   "metadata": {},
   "source": [
    "# mandelbrot"
   ]
  },
  {
   "cell_type": "code",
   "execution_count": 8,
   "metadata": {},
   "outputs": [],
   "source": [
    "import tensorflow as tf\n",
    "import numpy as np\n",
    "\n",
    "import PIL.Image\n",
    "from io import BytesIO\n",
    "from IPython.display import Image, display\n",
    "\n",
    "from utils import get_meshgrid\n",
    "from utils import fractal_to_img\n",
    "from utils import save_img"
   ]
  },
  {
   "cell_type": "code",
   "execution_count": 9,
   "metadata": {},
   "outputs": [],
   "source": [
    "def display_img(img, fmt='png'):\n",
    "    f = BytesIO()\n",
    "    PIL.Image.fromarray(img).save(f, fmt)\n",
    "    display(Image(data=f.getvalue()))"
   ]
  },
  {
   "cell_type": "code",
   "execution_count": 10,
   "metadata": {},
   "outputs": [],
   "source": [
    "# center\n",
    "X = 0.0\n",
    "Y = 0.0\n",
    "R = 2.0\n",
    "\n",
    "# interesting spot\n",
    "# X = 0.267235642726\n",
    "# Y = -0.003347589624\n",
    "# R = 1.15E-10\n",
    "\n",
    "Z = get_meshgrid(X, Y, R)"
   ]
  },
  {
   "cell_type": "code",
   "execution_count": 12,
   "metadata": {},
   "outputs": [],
   "source": [
    "tf.reset_default_graph()\n",
    "\n",
    "xs = tf.constant(Z, name='xs')\n",
    "zs = tf.Variable(xs, name='zs')\n",
    "ns = tf.Variable(tf.zeros_like(xs, tf.float32), name='ns')\n",
    "\n",
    "c = tf.constant(-0.624 + 0.435j, name='c')\n",
    "\n",
    "# zs_ = zs * zs + xs # mandelbrot\n",
    "zs_ = zs**2 + c # julia\n",
    "not_diverged = tf.abs(zs_) < 4 # uses zs_ instead of zs, therefore the first circle is at radius 2.0\n",
    "\n",
    "update_zs = zs.assign(zs_)\n",
    "update_ns = ns.assign_add(tf.cast(not_diverged, tf.float32))\n",
    "update_step = tf.group(update_zs, update_ns)\n",
    "\n",
    "init_op = tf.global_variables_initializer()\n",
    "\n",
    "writer = tf.summary.FileWriter('./logdir')\n",
    "writer.add_graph(tf.get_default_graph())\n",
    "\n",
    "with tf.Session() as sess:\n",
    "    init_op.run()\n",
    "    for i in range(128):\n",
    "        update_step.run()\n",
    "    \n",
    "    ns_np = ns.eval()"
   ]
  },
  {
   "cell_type": "code",
   "execution_count": 15,
   "metadata": {
    "scrolled": false
   },
   "outputs": [],
   "source": [
    "img = fractal_to_img(ns_np)\n",
    "save_img('test.png', img)"
   ]
  }
 ],
 "metadata": {
  "kernelspec": {
   "display_name": "Python 3",
   "language": "python",
   "name": "python3"
  },
  "language_info": {
   "codemirror_mode": {
    "name": "ipython",
    "version": 3
   },
   "file_extension": ".py",
   "mimetype": "text/x-python",
   "name": "python",
   "nbconvert_exporter": "python",
   "pygments_lexer": "ipython3",
   "version": "3.5.2"
  }
 },
 "nbformat": 4,
 "nbformat_minor": 2
}
